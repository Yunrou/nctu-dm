{
 "cells": [
  {
   "cell_type": "code",
   "execution_count": 1,
   "metadata": {},
   "outputs": [],
   "source": [
    "import numpy as np\n",
    "import numpy.linalg as LA\n",
    "np.seterr(all='raise')\n",
    "import pandas as pd\n",
    "import matplotlib.pyplot as plt\n",
    "plt.style.use('ggplot')\n",
    "%matplotlib inline\n",
    "\n",
    "from sklearn.model_selection import StratifiedKFold\n",
    "from sklearn.metrics import confusion_matrix\n",
    "from copy import copy, deepcopy\n",
    "from itertools import combinations"
   ]
  },
  {
   "cell_type": "markdown",
   "metadata": {},
   "source": [
    "# 1 Data Preprocessing"
   ]
  },
  {
   "cell_type": "markdown",
   "metadata": {},
   "source": [
    "## 1.1. tokenizer"
   ]
  },
  {
   "cell_type": "code",
   "execution_count": 2,
   "metadata": {},
   "outputs": [],
   "source": [
    "from spellchecker import SpellChecker\n",
    "\n",
    "spell = SpellChecker(language=None, case_sensitive=True)\n",
    "\n",
    "# Antibiotics\n",
    "spell.word_frequency.load_words(['acyclovir', 'amikacin', 'amoxicillin', \n",
    "'amphotericin_b_deoxycholate', 'ampicillin', 'azithromycin', 'cefaclor', \n",
    "'cefazolin', 'cefepime', 'cefixime', 'cefmetazole', 'cefoperazone', \n",
    "'ceftazidime', 'ceftibuten', 'ceftriaxone', 'cephradine', 'cilastatin', \n",
    "'ciprofloxacin', 'clavulanic_acid', 'clindamycin', 'cobicistat', \n",
    "'colistimethate', 'darunavir', 'dicloxacillin_sod', 'doxycycline', \n",
    "'emtricitabine', 'entecavir', 'ertapenem_sod', 'erythromycin_estolate', \n",
    "'famciclovir', 'flomoxef', 'fluconazole', 'fusidate_sod', 'gemifloxacin', \n",
    "'hydroxychloroquine', 'imipenem', 'levofloxacin', 'linezolid', 'meropenem', \n",
    "'metronidazole', 'minocycline', 'moxifloxacin', 'moxifloxacin_hydrochloride', \n",
    "'norfloxacin', 'nystatin', 'oseltamivir', 'oxacillin_sodium', 'piperacillin',\n",
    "'po', 'rifampin', 'rilpivirine', 'ritonavir', 'smz_tmp', 'sertaconazole', \n",
    "'sulbactam', 'sultamicillin', 'tazobactam', 'teicoplanin', 'tenofovir',\n",
    "'tenofovir_alafenamide', 'tigecycline', 'triamcinolone_acetonide', \n",
    "'trimethoprim', 'unifradine', 'valganciclovir', 'vancomycin'])\n",
    "\n",
    "# Bacteria\n",
    "spell.word_frequency.load_words(['achromobacter_denitrificans', \n",
    "'acinetobacter_baumannii', 'candida_albicans', 'candida_glabrata', \n",
    "'candida_tropicalis', 'citrobacter_koseri', 'corynebacterium_striatum', \n",
    "'cyberlindnera_fabianii', 'enterobacter_cloacae_ssp_cloacae', \n",
    "'enterococcus_faecalis', 'enterococcus_faecium', 'escherichia_coli', \n",
    "'klebsiella_pneumoniae_ssp_ozaenae', 'klebsiella pneumoniae_ssp_pneumoniae', \n",
    "'morganella_morganii_ssp_morganii', 'proteus_mirabilis', 'providencia_stuartii',\n",
    "'pseudomonas_aeruginosa', 'pseudomonas_putida', 'salmonella_group_c1', \n",
    "'salmonella_group_d1(non typhi)', 'staphylococcus_aureus', \n",
    "'staphylococcus_capitis', 'staphylococcus_caprae', 'staphylococcus_epidermidis',\n",
    "'staphylococcus_haemolyticus', 'staphylococcus_pettenkoferi', 'yeast_like', \n",
    "'klebsiella_pneumoniae_ssp_pneumoniae', 'staphylococcus_aureus_mrsa', \n",
    "'salmonella_roup_dnon_typhi', 'enterococcus_faecium_vre'])\n",
    "# spell.word_frequency.load_text_file('./antibiotics.txt')\n",
    "# spell.word_frequency.load_text_file('./bacteria.txt')\n",
    "\n",
    "def tokenizer(s):\n",
    "    def customized_split(s, token):\n",
    "        result = []\n",
    "        for v in s.split(token):\n",
    "            result.append(v.split(' ')[0])\n",
    "        return result\n",
    "     \n",
    "    if s == 0: return ''\n",
    "    if isinstance(s, int):\n",
    "        return str(s)\n",
    "    \n",
    "    legal_string = ''\n",
    "    # Trim illegal marks, numbers, and 'mg'\n",
    "    for i, ch in enumerate(s):\n",
    "        # isNumber\n",
    "        if 48 <= ord(ch) <= 57 or ch in '/()': continue\n",
    "            \n",
    "        # mg\n",
    "        if ch == 'm' and i < len(s)-1:\n",
    "            if s[i+1] == 'g': continue\n",
    "        if ch == 'g' and i > 0:\n",
    "            if s[i-1] == 'm' or 48 <= ord(s[i-1]) <= 57 or s[i-1] == ' ': continue\n",
    "           \n",
    "        # split small + large\n",
    "        if 65 <= ord(ch) <= 90 and i > 0:\n",
    "            if 97 <= ord(s[i-1]) <= 122: \n",
    "                legal_string += ','+ ch.lower()\n",
    "                continue\n",
    "                \n",
    "        # isAlphebet        \n",
    "        if 97 <= ord(ch.lower()) <= 122:\n",
    "            legal_string += ch.lower()\n",
    "        elif ch in (' ', '-'): \n",
    "            legal_string += ' '\n",
    "        else:\n",
    "            legal_string += ','\n",
    "    \n",
    "    # Check spelling\n",
    "    legal_concepts = []\n",
    "    for c in legal_string.split(','):\n",
    "        if c in ('', ' '): continue\n",
    "            \n",
    "        concept = '_'.join([x for x in c.split(' ') if x != ''])\n",
    "        \n",
    "        if concept in spell:\n",
    "            legal_concepts.append(concept)\n",
    "            continue\n",
    "            \n",
    "        misspelled = spell.unknown([concept])\n",
    "        for word in misspelled:\n",
    "            corrected_word = spell.correction(word)\n",
    "            if corrected_word in spell: legal_concepts.append(corrected_word)\n",
    "    \n",
    "    return ','.join(legal_concepts)"
   ]
  },
  {
   "cell_type": "markdown",
   "metadata": {},
   "source": [
    "## 1.2 Preprocessing"
   ]
  },
  {
   "cell_type": "code",
   "execution_count": 3,
   "metadata": {},
   "outputs": [],
   "source": [
    "def preprocessing(info_df, tpr_df, mode, dummies):\n",
    "    def rename_mapping(df):\n",
    "        feature_name_mapping = {x: '' for x in df.columns}\n",
    "        for idx, value in feature_name_mapping.items():\n",
    "            feature_name_mapping.update({idx: idx.split('_')[-1]})\n",
    "            if 'antibiotics' in idx:\n",
    "                feature_name_mapping.update({idx: 'Antibiotics'})\n",
    "            elif 'Bacteria' in idx:\n",
    "                feature_name_mapping.update({idx: 'Bacteria'})\n",
    "            \n",
    "        return feature_name_mapping\n",
    "    \n",
    "    def rename_dummies(df, original_name):\n",
    "        feature_name_mapping = {x: '' for x in df.columns}\n",
    "        for idx, value in feature_name_mapping.items():\n",
    "            feature_name_mapping.update({idx: '_'.join([original_name, idx])})\n",
    "        return feature_name_mapping\n",
    "    \n",
    "    # Rename feature names\n",
    "    info_df.rename(columns=rename_mapping(info_df), inplace=True)\n",
    "    tpr_df.rename(columns=rename_mapping(tpr_df), inplace=True)\n",
    "    \n",
    "    # Mapping values\n",
    "    info_df.loc[:,'No']       = info_df.loc[:,'No'].apply(lambda x: str(x)).astype(str).astype('int64') \n",
    "    info_df.loc[:,'Bacteria'] = info_df.loc[:,'Bacteria'].fillna(0)\n",
    "    tpr_df.loc[:,'No']        = tpr_df.loc[:,'No'].apply(lambda x: str(x)).astype(str).astype('int64')\n",
    "    tpr_df.loc[:,'Time']      = tpr_df.loc[:,'Time'].apply(lambda x: pd.Timestamp(x))\n",
    "    \n",
    "    info_df.loc[:,'Comorbidities'] = info_df.loc[:,'Comorbidities'].apply(lambda s: str(s)  if s != 0 else '')\n",
    "    info_df.loc[:,'Antibiotics']   = info_df.loc[:,'Antibiotics'].apply(tokenizer)\n",
    "    info_df.loc[:,'Bacteria']      = info_df.loc[:,'Bacteria'].apply(tokenizer)\n",
    "    \n",
    "    # Create dummies\n",
    "    dummy_dfs = []\n",
    "    if mode == 'train':\n",
    "        for col in ('Comorbidities', 'Antibiotics', 'Bacteria'):\n",
    "            dummy_df = info_df[col].str.get_dummies(sep=',')\n",
    "            # trim those have low frequencies\n",
    "            dummy_cols = []\n",
    "            for dummy in dummy_df.columns: \n",
    "                if dummy_df[dummy].sum() > 5: \n",
    "                    dummy_cols.append(dummy)\n",
    "\n",
    "            dummies.append(dummy_cols)\n",
    "            dummy_df = dummy_df[dummy_cols]\n",
    "            dummy_df.rename(columns=rename_dummies(dummy_df, col), inplace=True)\n",
    "            dummy_dfs.append(dummy_df)\n",
    "\n",
    "    elif mode == 'test':\n",
    "        for i, col in enumerate(('Comorbidities', 'Antibiotics', 'Bacteria')):\n",
    "            feature_columns = dummies[i]\n",
    "            n_col = len(feature_columns)\n",
    "            dummy_df = pd.DataFrame(np.zeros((info_df.shape[0], n_col)), columns=feature_columns)\n",
    "            for dummy_name in dummy_df.columns:\n",
    "                dummy_df.loc[:,dummy_name] = info_df.loc[:,col].apply(lambda s: int(dummy_name in s.split(',')))\n",
    "            dummy_df.rename(columns=rename_dummies(dummy_df, col), inplace=True)\n",
    "            dummy_dfs.append(dummy_df)\n",
    "\n",
    "    # Merge dummies\n",
    "    info_df.drop(['Comorbidities', 'Antibiotics', 'Bacteria'], axis=1, inplace=True)\n",
    "    info_df = pd.concat([info_df]+dummy_dfs, axis=1)\n",
    "    \n",
    "    # Create interaction terms among comorbidities\n",
    "    info_df['Comorbidities_1:2']   = info_df['Comorbidities_1']*info_df['Comorbidities_2']\n",
    "    info_df['Comorbidities_1:4']   = info_df['Comorbidities_1']*info_df['Comorbidities_4']\n",
    "    info_df['Comorbidities_2:4']   = info_df['Comorbidities_2']*info_df['Comorbidities_4']\n",
    "    info_df['Comorbidities_1:2:4'] = info_df['Comorbidities_1']*info_df['Comorbidities_2']*info_df['Comorbidities_4']\n",
    "    \n",
    "    # Imputation\n",
    "    dfs = []\n",
    "    for patient_id, patient_df in tpr_df.groupby('No'):\n",
    "         # last observation carried forward (LOCF)\n",
    "        dfs.append(patient_df.fillna(method='ffill').fillna(method='bfill'))\n",
    "    tpr_df = pd.concat(dfs).sort_index()\n",
    "    \n",
    "    \n",
    "    # Combine tabular and time-series data into tabular data\n",
    "    # Window-based summary\n",
    "    # generate features: mean/min/max/median/std    \n",
    "    tpr_df = tpr_df.groupby('No').agg(['mean', 'min', 'max', 'median', 'std'])\n",
    "    tpr_df.columns = list(map(lambda tup: tup[0]+'_'+tup[1], tpr_df.columns.to_flat_index()))\n",
    "    \n",
    "    # Create interaction terms among tpr features (T, P, R, NBPS, NBPD)\n",
    "    for f1, f2 in combinations(['T', 'P', 'R', 'NBPS', 'NBPD'], 2):\n",
    "        tpr_df[f1+':'+f2] = tpr_df[f1+'_mean']*tpr_df[f2+'_mean']\n",
    "\n",
    "    merged_df = pd.merge(info_df, tpr_df, left_on='No', right_index=True)\n",
    "\n",
    "    return merged_df, dummies\n",
    "\n",
    "def normalization(df):\n",
    "    # Normalizaion\n",
    "    for col in df.columns:\n",
    "        if col in ('Target', 'No'): continue\n",
    "        if len(df.loc[:,col].unique()) == 1: continue\n",
    "        # minmax\n",
    "        min_value = df.loc[:,col].min()\n",
    "        max_value = df.loc[:,col].max()\n",
    "        delta = max_value - min_value\n",
    "        df.loc[:,col] = df.loc[:,col].apply(lambda x: (x-min_value)/delta)\n",
    "    return df\n",
    "\n",
    "def rescaling(train_df, test_df):\n",
    "    # let the scale of test_df the same as scale of train_df\n",
    "    df = pd.concat([train_df, test_df])\n",
    "    rescaled_df = normalization(df)\n",
    "    n = len(train_df)\n",
    "    return rescaled_df[:n], rescaled_df[n:].drop({'Target'}, axis=1)"
   ]
  },
  {
   "cell_type": "markdown",
   "metadata": {},
   "source": [
    "# 2 Feature Selection"
   ]
  },
  {
   "cell_type": "code",
   "execution_count": 4,
   "metadata": {},
   "outputs": [],
   "source": [
    "from sklearn.feature_selection import f_classif, chi2\n",
    "\n",
    "class FeatureSelection():\n",
    "    # --------------------------------------------------------------------------\n",
    "    def __init__(self):\n",
    "        self.drop_features = []\n",
    "    # --------------------------------------------------------------------------\n",
    "    def fit_transform(self, X_train, y_train):\n",
    "        drop_features = self.filter_features(X_train.copy(), y_train.copy())\n",
    "        self.drop_features = drop_features\n",
    "\n",
    "        return X_train.drop(drop_features, axis=1)\n",
    "    # --------------------------------------------------------------------------\n",
    "    def transform(self, X_test):\n",
    "        # Feature Selection\n",
    "        return X_test.drop(self.drop_features, axis=1)\n",
    "    # --------------------------------------------------------------------------\n",
    "    def filter_features(self, X, Y):\n",
    "        # reduce redundancy\n",
    "        drop_features = {col for col in X if len(X[col].unique()) == 1 or col=='No'}\n",
    "        \n",
    "        # drop redundant features\n",
    "        drop_features |= self.redundant(X.drop(drop_features, axis=1), Y)\n",
    "        \n",
    "        # feature selected by p-value\n",
    "        significant_features = self.feature_seletion(X.drop(drop_features, axis=1), Y)\n",
    "\n",
    "        drop_features.clear()\n",
    "        drop_features = {col for col in X if col not in significant_features}\n",
    "        \n",
    "        return drop_features\n",
    "    # --------------------------------------------------------------------------\n",
    "    def feature_seletion(self, X, Y):\n",
    "\n",
    "        boolean_features   = {col for col in X if len(X[col].unique()) == 2}\n",
    "        numerical_features = {col for col in X if len(X[col].unique()) > 2}\n",
    "\n",
    "        X_numerical = X.drop(boolean_features, axis=1)\n",
    "        X_boolean   = X.drop(numerical_features, axis=1)\n",
    "        \n",
    "        pvalue_numerical = f_classif(X_numerical, Y)[1]\n",
    "        pvalue_boolean   = chi2(X_boolean, Y)[1]\n",
    "            \n",
    "        selected_features = set()\n",
    "        for i, col in enumerate(X_numerical.columns):\n",
    "            if pvalue_numerical[i] < 0.05: \n",
    "                selected_features |= {col}\n",
    "        for i, col in enumerate(X_boolean.columns):\n",
    "            if pvalue_boolean[i] < 0.05: \n",
    "                selected_features |= {col}\n",
    "        individual_features = set() \n",
    "        for f in selected_features:\n",
    "            # check interactions\n",
    "            if ':' not in f: continue\n",
    "            if 'Comorbidities_' in f:\n",
    "                terms = f.split('Comorbidities_')[1].split(':')\n",
    "                individual_features |= {'Comorbidities_'+i for i in terms}\n",
    "            else:\n",
    "                terms = f.split(':')\n",
    "                individual_features |= {i+'_mean' for i in terms}\n",
    "        selected_features |= individual_features\n",
    "\n",
    "        return selected_features\n",
    "    # --------------------------------------------------------------------------\n",
    "    def redundant(self, X, Y):\n",
    "        corr_matrix = X.corr()\n",
    "        n = corr_matrix.shape[0]\n",
    "        redundant_feature_groups = []\n",
    "        for (i, j) in combinations(range(n),2):\n",
    "            if abs(corr_matrix.iloc[i,j]) < 0.95: continue\n",
    "            if not redundant_feature_groups: \n",
    "                redundant_feature_groups.append([i, j])\n",
    "                continue\n",
    "\n",
    "            add = False\n",
    "            for group in redundant_feature_groups:\n",
    "                if i in group and j in group: \n",
    "                    add = True\n",
    "                    break\n",
    "                elif i in group:\n",
    "                    group.append(j)\n",
    "                    add = True\n",
    "                    break\n",
    "                elif j in group:\n",
    "                    group.append(i)\n",
    "                    add = True\n",
    "                    break\n",
    "\n",
    "            if not add:\n",
    "                redundant_feature_groups.append([i, j])\n",
    "                \n",
    "        redundant_features = set()\n",
    "        for group in redundant_feature_groups:\n",
    "            correlations = np.zeros((len(group),))\n",
    "            for i, _id in enumerate(group):\n",
    "                correlations[i] = X.iloc[:,_id].corr(Y)\n",
    "            for i in np.argsort(correlations)[:-1]:\n",
    "                redundant_features.add(X.columns[group[i]])\n",
    "                \n",
    "        return redundant_features"
   ]
  },
  {
   "cell_type": "markdown",
   "metadata": {},
   "source": [
    "# 3 Model"
   ]
  },
  {
   "cell_type": "markdown",
   "metadata": {},
   "source": [
    "## 3.1 Logistic Model"
   ]
  },
  {
   "cell_type": "code",
   "execution_count": 5,
   "metadata": {},
   "outputs": [],
   "source": [
    "class LogisticRegression():\n",
    "    # --------------------------------------------------------------------------\n",
    "    def __init__(self, lambda_=1, max_iter=100, eta=1e-2, solver='simple_GD'):\n",
    "        self.lambda_ = lambda_ # regularization term\n",
    "        self.max_iter = max_iter\n",
    "        self.eta = eta\n",
    "        self.solver = solver\n",
    "        self.weight = []\n",
    "        self.X = []\n",
    "        self.y = []\n",
    "        self.features = []\n",
    "    # --------------------------------------------------------------------------\n",
    "    def logit(self, x):\n",
    "        return .5 * (1 + np.tanh(.5 * x))\n",
    "    # --------------------------------------------------------------------------\n",
    "    def fit(self, X, y):\n",
    "        self.features = X.columns\n",
    "        self.X = np.hstack((np.ones((X.shape[0],1)),X)).copy() # X_[:,0] = [1, ..., 1]\n",
    "        self.y = y.copy()\n",
    "        \n",
    "        score = np.zeros((20,))\n",
    "        ws = np.zeros((20, self.X.shape[1]))\n",
    "\n",
    "        for i in range(20):\n",
    "            w = np.random.rand(self.X.shape[1], )\n",
    "            if self.solver == 'simple_GD':\n",
    "                w = self.simple_GD(w)\n",
    "            elif self.solver == 'momentum_GD':\n",
    "                w = self.momentum_GD(w)\n",
    "#             elif self.solver == 'BFGS':\n",
    "#                 w = self.BFGS(w)\n",
    "            score[i] = self.f(w)\n",
    "            ws[i] = w\n",
    "        self.weight = ws[np.argmax(score)]\n",
    "        \n",
    "        return self.weight\n",
    "    # --------------------------------------------------------------------------\n",
    "    def f(self, w):\n",
    "        X = self.X\n",
    "        y = self.y # (N,)\n",
    "        sigmoid = self.logit(X.dot(w))\n",
    "        return np.sum(y*np.log(sigmoid) + (1-y)*np.log(1-sigmoid)) - self.lambda_*w.dot(w)\n",
    "    # --------------------------------------------------------------------------\n",
    "    def f_diff(self, w):\n",
    "        '''\n",
    "        input w\n",
    "        Output (P,)\n",
    "        '''\n",
    "        X = self.X # (320,80)\n",
    "        y = self.y # (320,)\n",
    "        sigmoid = self.logit(X.dot(w)) \n",
    "        gradient = X.T.dot(y-sigmoid) - 2*self.lambda_*w\n",
    "        return gradient\n",
    "    # --------------------------------------------------------------------------\n",
    "    def simple_GD(self, w0):\n",
    "        w = w0.copy()\n",
    "        for iter in range(self.max_iter):\n",
    "            gradient = self.f_diff(w)\n",
    "            w_new = w + self.eta*gradient\n",
    "            \n",
    "            if LA.norm(w_new - w) < 1e-6:\n",
    "                return w_new\n",
    "            w = w_new\n",
    "        return w\n",
    "    # --------------------------------------------------------------------------\n",
    "    def momentum_GD(self, w0):\n",
    "        w = w0.copy()\n",
    "        momentum = np.zeros(w.shape)\n",
    "        for iter in range(self.max_iter):\n",
    "            gradient = self.f_diff(w)\n",
    "            momentum_new = 0.1*self.eta*gradient + 0.9 * momentum\n",
    "            w_new = w + momentum_new\n",
    "            \n",
    "            # Check converge\n",
    "            if LA.norm(w_new - w) < 1e-6:\n",
    "                return w_new\n",
    "            \n",
    "            momentum = momentum_new\n",
    "            w = w_new\n",
    "        return w\n",
    "    # --------------------------------------------------------------------------\n",
    "    def predict(self, X):\n",
    "        X_ = np.hstack((np.ones((X.shape[0],1)),X))\n",
    "        y = self.logit(X_.dot(self.weight))\n",
    "        y[y > 0.5] = 1\n",
    "        y[y <= 0.5] = 0\n",
    "        return y\n",
    "    # --------------------------------------------------------------------------\n",
    "    def predict_probability(self, X):\n",
    "        X_ = np.hstack((np.ones((X.shape[0],1)),X))\n",
    "        prob  = self.logit(X_.dot(self.weight))\n",
    "        return prob\n",
    "    # --------------------------------------------------------------------------\n",
    "    def visualize(self):\n",
    "        weights = self.weight[1:]\n",
    "        colors = ['indianred' if w > 0  else 'forestgreen' for w in weights]\n",
    "        features = self.features\n",
    "        y_pos = np.arange(len(features))\n",
    "        \n",
    "        fig, ax = plt.subplots(figsize=(8,6))\n",
    "        ax.barh(y_pos, weights, color=colors)\n",
    "        ax.set_yticks(y_pos)\n",
    "        ax.set_yticklabels(features)\n",
    "        ax.invert_yaxis()  # labels read top-to-bottom\n",
    "        ax.set_title('FeatureWeights')\n",
    "\n",
    "        fig.patch.set_visible(False)\n",
    "        fig.tight_layout()\n",
    "        plt.show()"
   ]
  },
  {
   "cell_type": "markdown",
   "metadata": {},
   "source": [
    "## 3.2 Ensemble"
   ]
  },
  {
   "cell_type": "code",
   "execution_count": 6,
   "metadata": {},
   "outputs": [],
   "source": [
    "class BaggingClassifier():\n",
    "    # --------------------------------------------------------------------------\n",
    "    def __init__(self, base_models, n_estimators):\n",
    "        self.base_models = base_models\n",
    "        self.n_estimators = n_estimators\n",
    "        self.n_models = int(len(base_models)*(n_estimators+1))\n",
    "        self.models = []\n",
    "    # --------------------------------------------------------------------------\n",
    "    def fit(self, X, y):\n",
    "        # Model Generation\n",
    "        models = []\n",
    "        for base_model in self.base_models:\n",
    "            for i in range(self.n_estimators):\n",
    "                sampled_indices = np.random.choice(X.shape[0], X.shape[0])\n",
    "\n",
    "                X_ = X.iloc[sampled_indices, :]\n",
    "                y_ = y.iloc[sampled_indices]\n",
    "\n",
    "                # Train model on Tr_ and store it\n",
    "                model = deepcopy(base_model)\n",
    "                model.fit(X_, y_)\n",
    "                models.append(model)\n",
    "            model = deepcopy(base_model)\n",
    "            model.fit(X, y)\n",
    "            models.append(model)\n",
    "            \n",
    "        self.models = models\n",
    "    # --------------------------------------------------------------------------\n",
    "    def predict(self, X, method):\n",
    "        if method == 'majority_vote':\n",
    "            # Predict by Voting\n",
    "            Y = np.zeros((self.n_models, X.shape[0]))\n",
    "            for i, model in enumerate(self.models):\n",
    "                Y[i] = model.predict(X)\n",
    "\n",
    "            # Majority Vote\n",
    "            y = Y.mean(axis=0)\n",
    "            y[y > 0.5] = 1\n",
    "            y[y <= 0.5] = 0\n",
    "            \n",
    "        elif method == 'probability':\n",
    "            # Predict by accumulation\n",
    "            prob = np.zeros((self.n_models, X.shape[0]))\n",
    "            for i, model in enumerate(self.models):\n",
    "                prob[i] = model.predict_probability(X)\n",
    "\n",
    "            # Take average on probability\n",
    "            y = prob.mean(axis=0)\n",
    "            y[y > 0.5] = 1\n",
    "            y[y <= 0.5] = 0\n",
    "        \n",
    "        return y"
   ]
  },
  {
   "cell_type": "code",
   "execution_count": 7,
   "metadata": {},
   "outputs": [],
   "source": [
    "def cross_validation(df, kfold:int):\n",
    "    \n",
    "    # split X, Y\n",
    "    X = df.drop('Target', axis=1)\n",
    "    y = df.loc[:,'Target']\n",
    "    \n",
    "    # Stratified K fold\n",
    "    kf = StratifiedKFold(n_splits=kfold, shuffle=True)\n",
    "    kf.get_n_splits(X)\n",
    "    \n",
    "    param = {'lambda_': [0, 1, 1e-1, 5e-2, 1e-2, 5e-3, 1e-3]}\n",
    "    validated_table = pd.DataFrame(np.zeros((8,8)), columns=['lambda_', 'f1_score_0', 'f1_score_1', \n",
    "                                                             'f1_score_2', 'f1_score_3', 'f1_score_4', \n",
    "                                                             'mean', 'std'])\n",
    "    j = 0\n",
    "    for train_index, test_index in kf.split(X, y):\n",
    "        X_train, X_test = X.iloc[train_index], X.iloc[test_index]\n",
    "        y_train, y_test = y.iloc[train_index], y.iloc[test_index]\n",
    "        \n",
    "        # Feature Selection\n",
    "        selector = FeatureSelection()\n",
    "        X_train = selector.fit_transform(X_train.copy(), y_train.copy())\n",
    "        X_test = selector.transform(X_test.copy())\n",
    "        \n",
    "        # Training Models and Record F1 scores\n",
    "        ## Loop over different models with different lambda (penalty)\n",
    "        models = []\n",
    "        for i, lambda_ in enumerate(param['lambda_']):\n",
    "            model    = LogisticRegression(lambda_=lambda_, max_iter=200, eta=1e-2, solver='momentum_GD')\n",
    "            ensemble = BaggingClassifier([model], n_estimators=10)\n",
    "            ensemble.fit(X_train.copy(), y_train.copy())\n",
    "\n",
    "            prediction     = ensemble.predict(X_test.copy(), method='majority_vote')\n",
    "            tn, fp, fn, tp = confusion_matrix(y_test.to_numpy().flatten(), prediction).ravel()\n",
    "\n",
    "            validated_table.loc[i, 'lambda_'] = lambda_\n",
    "            validated_table.loc[i, 'f1_score_'+str(j)] = 2*tp/(2*tp+fp+fn)\n",
    "\n",
    "            if 1e-3 <= lambda_ <= 1e-2:\n",
    "                models.append(model)\n",
    "\n",
    "        ensemble = BaggingClassifier(models, n_estimators=10)\n",
    "        ensemble.fit(X_train.copy(), y_train.copy())\n",
    "\n",
    "        prediction = ensemble.predict(X_test.copy(), method='majority_vote')\n",
    "        tn, fp, fn, tp = confusion_matrix(y_test.to_numpy().flatten(), prediction).ravel()\n",
    "        validated_table.loc[i+1, 'lambda_'] = 'ensemble'\n",
    "        validated_table.loc[i+1, 'f1_score_'+str(j)] = 2*tp/(2*tp+fp+fn)\n",
    "        \n",
    "        j += 1 \n",
    "        \n",
    "    validated_table.loc[:, 'mean'] = validated_table.iloc[:, 1:6].mean(axis=1)\n",
    "    validated_table.loc[:, 'std']  = validated_table.iloc[:, 1:6].std(axis=1)\n",
    "    \n",
    "    return validated_table"
   ]
  },
  {
   "cell_type": "markdown",
   "metadata": {},
   "source": [
    "## Main - Training & Cross Validation"
   ]
  },
  {
   "cell_type": "code",
   "execution_count": 8,
   "metadata": {},
   "outputs": [],
   "source": [
    "Info_train_df = pd.read_excel('Training data.xlsx', sheet_name=0)\n",
    "TPR_train_df  = pd.read_excel('Training data.xlsx', sheet_name=1) \n",
    "dummies = []\n",
    "train_df, dummies = preprocessing(deepcopy(Info_train_df), deepcopy(TPR_train_df), 'train', dummies)"
   ]
  },
  {
   "cell_type": "code",
   "execution_count": 9,
   "metadata": {},
   "outputs": [],
   "source": [
    "Tr = normalization(train_df.copy())"
   ]
  },
  {
   "cell_type": "code",
   "execution_count": 10,
   "metadata": {},
   "outputs": [],
   "source": [
    "kfold = 5\n",
    "table = cross_validation(Tr, kfold)"
   ]
  },
  {
   "cell_type": "code",
   "execution_count": 11,
   "metadata": {
    "scrolled": true
   },
   "outputs": [
    {
     "data": {
      "text/html": [
       "<div>\n",
       "<style scoped>\n",
       "    .dataframe tbody tr th:only-of-type {\n",
       "        vertical-align: middle;\n",
       "    }\n",
       "\n",
       "    .dataframe tbody tr th {\n",
       "        vertical-align: top;\n",
       "    }\n",
       "\n",
       "    .dataframe thead th {\n",
       "        text-align: right;\n",
       "    }\n",
       "</style>\n",
       "<table border=\"1\" class=\"dataframe\">\n",
       "  <thead>\n",
       "    <tr style=\"text-align: right;\">\n",
       "      <th></th>\n",
       "      <th>lambda_</th>\n",
       "      <th>f1_score_0</th>\n",
       "      <th>f1_score_1</th>\n",
       "      <th>f1_score_2</th>\n",
       "      <th>f1_score_3</th>\n",
       "      <th>f1_score_4</th>\n",
       "      <th>mean</th>\n",
       "      <th>std</th>\n",
       "    </tr>\n",
       "  </thead>\n",
       "  <tbody>\n",
       "    <tr>\n",
       "      <th>0</th>\n",
       "      <td>0</td>\n",
       "      <td>0.538462</td>\n",
       "      <td>0.500000</td>\n",
       "      <td>0.600000</td>\n",
       "      <td>0.615385</td>\n",
       "      <td>0.615385</td>\n",
       "      <td>0.573846</td>\n",
       "      <td>0.052058</td>\n",
       "    </tr>\n",
       "    <tr>\n",
       "      <th>1</th>\n",
       "      <td>1</td>\n",
       "      <td>0.454545</td>\n",
       "      <td>0.200000</td>\n",
       "      <td>0.363636</td>\n",
       "      <td>0.400000</td>\n",
       "      <td>0.545455</td>\n",
       "      <td>0.392727</td>\n",
       "      <td>0.127662</td>\n",
       "    </tr>\n",
       "    <tr>\n",
       "      <th>2</th>\n",
       "      <td>0.1</td>\n",
       "      <td>0.518519</td>\n",
       "      <td>0.500000</td>\n",
       "      <td>0.620690</td>\n",
       "      <td>0.615385</td>\n",
       "      <td>0.615385</td>\n",
       "      <td>0.573995</td>\n",
       "      <td>0.059497</td>\n",
       "    </tr>\n",
       "    <tr>\n",
       "      <th>3</th>\n",
       "      <td>0.05</td>\n",
       "      <td>0.592593</td>\n",
       "      <td>0.466667</td>\n",
       "      <td>0.600000</td>\n",
       "      <td>0.560000</td>\n",
       "      <td>0.560000</td>\n",
       "      <td>0.555852</td>\n",
       "      <td>0.053121</td>\n",
       "    </tr>\n",
       "    <tr>\n",
       "      <th>4</th>\n",
       "      <td>0.01</td>\n",
       "      <td>0.538462</td>\n",
       "      <td>0.518519</td>\n",
       "      <td>0.625000</td>\n",
       "      <td>0.714286</td>\n",
       "      <td>0.583333</td>\n",
       "      <td>0.595920</td>\n",
       "      <td>0.077953</td>\n",
       "    </tr>\n",
       "    <tr>\n",
       "      <th>5</th>\n",
       "      <td>0.005</td>\n",
       "      <td>0.538462</td>\n",
       "      <td>0.518519</td>\n",
       "      <td>0.580645</td>\n",
       "      <td>0.666667</td>\n",
       "      <td>0.615385</td>\n",
       "      <td>0.583935</td>\n",
       "      <td>0.059564</td>\n",
       "    </tr>\n",
       "    <tr>\n",
       "      <th>6</th>\n",
       "      <td>0.001</td>\n",
       "      <td>0.538462</td>\n",
       "      <td>0.500000</td>\n",
       "      <td>0.562500</td>\n",
       "      <td>0.666667</td>\n",
       "      <td>0.615385</td>\n",
       "      <td>0.576603</td>\n",
       "      <td>0.065454</td>\n",
       "    </tr>\n",
       "    <tr>\n",
       "      <th>7</th>\n",
       "      <td>ensemble</td>\n",
       "      <td>0.538462</td>\n",
       "      <td>0.482759</td>\n",
       "      <td>0.600000</td>\n",
       "      <td>0.714286</td>\n",
       "      <td>0.640000</td>\n",
       "      <td>0.595101</td>\n",
       "      <td>0.089546</td>\n",
       "    </tr>\n",
       "  </tbody>\n",
       "</table>\n",
       "</div>"
      ],
      "text/plain": [
       "    lambda_  f1_score_0  f1_score_1  f1_score_2  f1_score_3  f1_score_4  \\\n",
       "0         0    0.538462    0.500000    0.600000    0.615385    0.615385   \n",
       "1         1    0.454545    0.200000    0.363636    0.400000    0.545455   \n",
       "2       0.1    0.518519    0.500000    0.620690    0.615385    0.615385   \n",
       "3      0.05    0.592593    0.466667    0.600000    0.560000    0.560000   \n",
       "4      0.01    0.538462    0.518519    0.625000    0.714286    0.583333   \n",
       "5     0.005    0.538462    0.518519    0.580645    0.666667    0.615385   \n",
       "6     0.001    0.538462    0.500000    0.562500    0.666667    0.615385   \n",
       "7  ensemble    0.538462    0.482759    0.600000    0.714286    0.640000   \n",
       "\n",
       "       mean       std  \n",
       "0  0.573846  0.052058  \n",
       "1  0.392727  0.127662  \n",
       "2  0.573995  0.059497  \n",
       "3  0.555852  0.053121  \n",
       "4  0.595920  0.077953  \n",
       "5  0.583935  0.059564  \n",
       "6  0.576603  0.065454  \n",
       "7  0.595101  0.089546  "
      ]
     },
     "execution_count": 11,
     "metadata": {},
     "output_type": "execute_result"
    }
   ],
   "source": [
    "table # max_iter: 200, eta: 1e-2, n_estimator: 10"
   ]
  },
  {
   "cell_type": "markdown",
   "metadata": {},
   "source": [
    "## Main - Testing (Prediction)"
   ]
  },
  {
   "cell_type": "code",
   "execution_count": 12,
   "metadata": {},
   "outputs": [],
   "source": [
    "Info_test_df = pd.read_excel('Testing data.xlsx', sheet_name=0)\n",
    "TPR_test_df  = pd.read_excel('Testing data.xlsx', sheet_name=1) \n",
    "test_df, dummies = preprocessing(deepcopy(Info_test_df), deepcopy(TPR_test_df), 'test', dummies)\n",
    "Tr, Ts = rescaling(train_df.copy(), test_df.copy())"
   ]
  },
  {
   "cell_type": "code",
   "execution_count": 22,
   "metadata": {},
   "outputs": [],
   "source": [
    "# split X, Y\n",
    "X_train = Tr.drop('Target', axis=1)\n",
    "y_train = Tr.loc[:,'Target']\n",
    "\n",
    "param = {'lambda_': [0, 1, 1e-1, 5e-2, 1e-2, 5e-3, 1e-3]}\n",
    "models = []\n",
    "# Feature Selection\n",
    "selector = FeatureSelection()\n",
    "X_train = selector.fit_transform(X_train.copy(), y_train.copy())\n",
    "X_test = selector.transform(Ts.copy())\n",
    "\n",
    "for i, lambda_ in enumerate(param['lambda_']):\n",
    "    model = LogisticRegression(lambda_=lambda_, max_iter=200, eta=1e-2, solver='momentum_GD')\n",
    "    model.fit(X_train.copy(), y_train.copy())\n",
    "    models.append(model)\n",
    "\n",
    "ensemble = BaggingClassifier(models[4:], n_estimators=10)\n",
    "ensemble.fit(X_train.copy(), y_train.copy())"
   ]
  },
  {
   "cell_type": "code",
   "execution_count": 23,
   "metadata": {},
   "outputs": [
    {
     "data": {
      "image/png": "[encoded data removed]",
      "text/plain": [
       "<Figure size 576x432 with 1 Axes>"
      ]
     },
     "metadata": {
      "needs_background": "light"
     },
     "output_type": "display_data"
    }
   ],
   "source": [
    "models[0].visualize() # lambda_=0"
   ]
  },
  {
   "cell_type": "code",
   "execution_count": 24,
   "metadata": {},
   "outputs": [
    {
     "data": {
      "image/png": "[encoded data removed]",
      "text/plain": [
       "<Figure size 576x432 with 1 Axes>"
      ]
     },
     "metadata": {
      "needs_background": "light"
     },
     "output_type": "display_data"
    }
   ],
   "source": [
    "models[1].visualize() # lambda=1"
   ]
  },
  {
   "cell_type": "code",
   "execution_count": 25,
   "metadata": {},
   "outputs": [
    {
     "data": {
      "image/png": "[encoded data removed]",
      "text/plain": [
       "<Figure size 576x432 with 1 Axes>"
      ]
     },
     "metadata": {
      "needs_background": "light"
     },
     "output_type": "display_data"
    }
   ],
   "source": [
    "models[2].visualize() # lambda_=1e-1"
   ]
  },
  {
   "cell_type": "code",
   "execution_count": 26,
   "metadata": {},
   "outputs": [
    {
     "data": {
      "image/png": "[encoded data removed]",
      "text/plain": [
       "<Figure size 576x432 with 1 Axes>"
      ]
     },
     "metadata": {
      "needs_background": "light"
     },
     "output_type": "display_data"
    }
   ],
   "source": [
    "models[4].visualize() # lambda=1e-2"
   ]
  },
  {
   "cell_type": "code",
   "execution_count": 31,
   "metadata": {},
   "outputs": [],
   "source": [
    "prediction = ensemble.predict(X_test.copy(), method='majority_vote')"
   ]
  },
  {
   "cell_type": "code",
   "execution_count": 32,
   "metadata": {},
   "outputs": [],
   "source": [
    "# Write file\n",
    "submission = pd.read_csv('0856617.csv')\n",
    "for i in range(len(submission)):\n",
    "    submission.loc[i, 'Target'] = prediction[i]\n",
    "submission = submission.astype('int32')\n",
    "submission.to_csv('0856617.csv', index=False)"
   ]
  },
  {
   "cell_type": "markdown",
   "metadata": {},
   "source": [
    "### Function Testing"
   ]
  },
  {
   "cell_type": "code",
   "execution_count": 34,
   "metadata": {},
   "outputs": [
    {
     "data": {
      "text/plain": [
       "array([0., 0., 0., 0., 0., 0., 0., 1., 1., 0., 0., 0., 0., 1., 0., 0., 0.,\n",
       "       0., 1., 0., 0., 1., 0., 0., 0., 1., 0., 0., 0., 0., 0., 0., 0., 0.,\n",
       "       0., 0., 0., 0., 0., 0., 0., 0., 0., 1., 0., 1., 0., 0., 0., 0., 0.,\n",
       "       0., 1., 0., 0., 0., 1., 0., 0., 0., 0., 0., 0., 1., 0., 0., 0., 1.,\n",
       "       0., 0., 0., 0., 0., 1., 0., 0., 0., 0., 1., 1.])"
      ]
     },
     "execution_count": 34,
     "metadata": {},
     "output_type": "execute_result"
    }
   ],
   "source": [
    "models[0].predict(X_test.copy())"
   ]
  },
  {
   "cell_type": "code",
   "execution_count": 33,
   "metadata": {},
   "outputs": [
    {
     "data": {
      "text/plain": [
       "array([0.05311536, 0.11737974, 0.37270211, 0.07698315, 0.49575565,\n",
       "       0.0066607 , 0.21329123, 0.55254732, 0.7622379 , 0.16533949,\n",
       "       0.02533129, 0.30345518, 0.02515972, 0.63130452, 0.14123054,\n",
       "       0.06222647, 0.30192812, 0.08367699, 0.87603028, 0.42266799,\n",
       "       0.0093339 , 0.90140672, 0.28323219, 0.09471273, 0.27651275,\n",
       "       0.84375275, 0.07254734, 0.08113814, 0.05209174, 0.23262378,\n",
       "       0.11430519, 0.27192444, 0.21926891, 0.22598407, 0.15916993,\n",
       "       0.18278782, 0.44350138, 0.05830152, 0.03049071, 0.36555837,\n",
       "       0.08418049, 0.12845454, 0.43065129, 0.51129414, 0.11859774,\n",
       "       0.83252174, 0.30986011, 0.17118555, 0.02406062, 0.1479569 ,\n",
       "       0.05790583, 0.00197543, 0.67931741, 0.16918345, 0.02637849,\n",
       "       0.21819888, 0.92059703, 0.12899064, 0.06105769, 0.05432696,\n",
       "       0.39224587, 0.10961899, 0.13731909, 0.80926622, 0.03977129,\n",
       "       0.19398057, 0.00260569, 0.74873806, 0.21512289, 0.20182887,\n",
       "       0.11239804, 0.24887347, 0.24346303, 0.65653906, 0.00161513,\n",
       "       0.08469355, 0.19547677, 0.27933724, 0.651136  , 0.89783223])"
      ]
     },
     "execution_count": 33,
     "metadata": {},
     "output_type": "execute_result"
    }
   ],
   "source": [
    "models[0].predict_probability(X_test.copy())"
   ]
  },
  {
   "cell_type": "code",
   "execution_count": 36,
   "metadata": {},
   "outputs": [
    {
     "data": {
      "image/png": "[encoded data removed]",
      "text/plain": [
       "<Figure size 576x432 with 1 Axes>"
      ]
     },
     "metadata": {
      "needs_background": "light"
     },
     "output_type": "display_data"
    }
   ],
   "source": [
    "models[0].visualize()"
   ]
  },
  {
   "cell_type": "code",
   "execution_count": null,
   "metadata": {},
   "outputs": [],
   "source": []
  }
 ],
 "metadata": {
  "kernelspec": {
   "display_name": "Python 3",
   "language": "python",
   "name": "python3"
  },
  "language_info": {
   "codemirror_mode": {
    "name": "ipython",
    "version": 3
   },
   "file_extension": ".py",
   "mimetype": "text/x-python",
   "name": "python",
   "nbconvert_exporter": "python",
   "pygments_lexer": "ipython3",
   "version": "3.7.4"
  }
 },
 "nbformat": 4,
 "nbformat_minor": 4
}
